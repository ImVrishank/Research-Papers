{
 "cells": [
  {
   "cell_type": "code",
   "execution_count": 1,
   "id": "46179f7c-fbf9-43e7-9696-7b03533d275e",
   "metadata": {},
   "outputs": [
    {
     "name": "stderr",
     "output_type": "stream",
     "text": [
      "DEPRECATION: Loading egg at c:\\users\\vrishank\\appdata\\local\\programs\\python\\python312\\lib\\site-packages\\object_detection-0.1-py3.12.egg is deprecated. pip 25.1 will enforce this behaviour change. A possible replacement is to use pip for package installation. Discussion can be found at https://github.com/pypa/pip/issues/12330\n",
      "DEPRECATION: Loading egg at c:\\users\\vrishank\\appdata\\local\\programs\\python\\python312\\lib\\site-packages\\pyparsing-2.4.7-py3.12.egg is deprecated. pip 25.1 will enforce this behaviour change. A possible replacement is to use pip for package installation. Discussion can be found at https://github.com/pypa/pip/issues/12330\n",
      "DEPRECATION: Loading egg at c:\\users\\vrishank\\appdata\\local\\programs\\python\\python312\\lib\\site-packages\\sacrebleu-2.2.0-py3.12.egg is deprecated. pip 25.1 will enforce this behaviour change. A possible replacement is to use pip for package installation. Discussion can be found at https://github.com/pypa/pip/issues/12330\n",
      "\n",
      "[notice] A new release of pip is available: 24.3.1 -> 25.1.1\n",
      "[notice] To update, run: python.exe -m pip install --upgrade pip\n"
     ]
    }
   ],
   "source": [
    "!pip install stanza -q"
   ]
  },
  {
   "cell_type": "code",
   "execution_count": 2,
   "id": "2fbd2ca1-ec71-4c08-b3c2-f8bfb216bb5a",
   "metadata": {},
   "outputs": [
    {
     "name": "stderr",
     "output_type": "stream",
     "text": [
      "C:\\Users\\Vrishank\\AppData\\Local\\Programs\\Python\\Python312\\Lib\\site-packages\\torch\\utils\\_pytree.py:185: FutureWarning: optree is installed but the version is too old to support PyTorch Dynamo in C++ pytree. C++ pytree support is disabled. Please consider upgrading optree using `python3 -m pip install --upgrade 'optree>=0.13.0'`.\n",
      "  warnings.warn(\n"
     ]
    },
    {
     "data": {
      "application/vnd.jupyter.widget-view+json": {
       "model_id": "c9fd59ee5e9842f5a38ae8cea754846b",
       "version_major": 2,
       "version_minor": 0
      },
      "text/plain": [
       "Downloading https://raw.githubusercontent.com/stanfordnlp/stanza-resources/main/resources_1.10.0.json:   0%|  …"
      ]
     },
     "metadata": {},
     "output_type": "display_data"
    },
    {
     "name": "stderr",
     "output_type": "stream",
     "text": [
      "2025-06-23 20:30:21 INFO: Downloaded file to C:\\Users\\Vrishank\\stanza_resources\\resources.json\n",
      "2025-06-23 20:30:21 INFO: Downloading default packages for language: en (English) ...\n"
     ]
    },
    {
     "data": {
      "application/vnd.jupyter.widget-view+json": {
       "model_id": "8b5bf9401993469f80e6a53c4945bad8",
       "version_major": 2,
       "version_minor": 0
      },
      "text/plain": [
       "Downloading https://huggingface.co/stanfordnlp/stanza-en/resolve/v1.10.0/models/default.zip:   0%|          | …"
      ]
     },
     "metadata": {},
     "output_type": "display_data"
    },
    {
     "name": "stderr",
     "output_type": "stream",
     "text": [
      "2025-06-23 20:30:56 INFO: Downloaded file to C:\\Users\\Vrishank\\stanza_resources\\en\\default.zip\n",
      "2025-06-23 20:31:09 INFO: Finished downloading models and saved to C:\\Users\\Vrishank\\stanza_resources\n",
      "2025-06-23 20:31:09 INFO: Checking for updates to resources.json in case models have been updated.  Note: this behavior can be turned off with download_method=None or download_method=DownloadMethod.REUSE_RESOURCES\n"
     ]
    },
    {
     "data": {
      "application/vnd.jupyter.widget-view+json": {
       "model_id": "54c3d6e8011249cc997ac74399e163a7",
       "version_major": 2,
       "version_minor": 0
      },
      "text/plain": [
       "Downloading https://raw.githubusercontent.com/stanfordnlp/stanza-resources/main/resources_1.10.0.json:   0%|  …"
      ]
     },
     "metadata": {},
     "output_type": "display_data"
    },
    {
     "name": "stderr",
     "output_type": "stream",
     "text": [
      "2025-06-23 20:31:09 INFO: Downloaded file to C:\\Users\\Vrishank\\stanza_resources\\resources.json\n",
      "2025-06-23 20:31:09 WARNING: Language en package default expects mwt, which has been added\n",
      "2025-06-23 20:31:11 INFO: Loading these models for language: en (English):\n",
      "======================================\n",
      "| Processor    | Package             |\n",
      "--------------------------------------\n",
      "| tokenize     | combined            |\n",
      "| mwt          | combined            |\n",
      "| pos          | combined_charlm     |\n",
      "| constituency | ptb3-revised_charlm |\n",
      "======================================\n",
      "\n",
      "2025-06-23 20:31:11 INFO: Using device: cpu\n",
      "2025-06-23 20:31:11 INFO: Loading: tokenize\n",
      "2025-06-23 20:31:17 INFO: Loading: mwt\n",
      "2025-06-23 20:31:17 INFO: Loading: pos\n",
      "2025-06-23 20:31:23 INFO: Loading: constituency\n",
      "2025-06-23 20:31:26 INFO: Done loading processors!\n"
     ]
    },
    {
     "name": "stdout",
     "output_type": "stream",
     "text": [
      "                     ROOT                          \n",
      "                      |                             \n",
      "                      S                            \n",
      "       _______________|__________________________   \n",
      "      |                         VP               | \n",
      "      |                _________|___             |  \n",
      "      |               |             PP           | \n",
      "      |               |     ________|___         |  \n",
      "      NP              |    |            NP       | \n",
      "  ____|__________     |    |     _______|____    |  \n",
      " DT   JJ    JJ   NN  VBZ   IN   DT      JJ   NN  . \n",
      " |    |     |    |    |    |    |       |    |   |  \n",
      "The quick brown fox jumps over the     lazy dog  . \n",
      "\n"
     ]
    }
   ],
   "source": [
    "import stanza\n",
    "from nltk import Tree\n",
    "\n",
    "stanza.download('en')\n",
    "nlp = stanza.Pipeline(lang='en', processors='tokenize,pos,constituency')\n",
    "\n",
    "doc = nlp(\"The quick brown fox jumps over the lazy dog.\")\n",
    "tree = Tree.fromstring(str(doc.sentences[0].constituency))\n",
    "tree.pretty_print()\n"
   ]
  },
  {
   "cell_type": "code",
   "execution_count": null,
   "id": "d74ccc0e-4a27-4b2a-a959-aaff54b6154d",
   "metadata": {},
   "outputs": [],
   "source": []
  }
 ],
 "metadata": {
  "kernelspec": {
   "display_name": "Python 3 (ipykernel)",
   "language": "python",
   "name": "python3"
  },
  "language_info": {
   "codemirror_mode": {
    "name": "ipython",
    "version": 3
   },
   "file_extension": ".py",
   "mimetype": "text/x-python",
   "name": "python",
   "nbconvert_exporter": "python",
   "pygments_lexer": "ipython3",
   "version": "3.12.4"
  }
 },
 "nbformat": 4,
 "nbformat_minor": 5
}
