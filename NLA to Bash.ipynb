{
 "cells": [
  {
   "cell_type": "code",
   "execution_count": 14,
   "id": "382cbdd7-4626-4a92-bd81-2275e5b0c562",
   "metadata": {},
   "outputs": [],
   "source": [
    "# downloads\n",
    "!pip install stanza gensim torchtext -qq"
   ]
  },
  {
   "cell_type": "code",
   "execution_count": 15,
   "id": "0666c3c7-76cd-4b2b-9bf0-f8c091a8e042",
   "metadata": {},
   "outputs": [
    {
     "data": {
      "application/vnd.jupyter.widget-view+json": {
       "model_id": "698a699ccc5044b9ab3ad8d2c17febb5",
       "version_major": 2,
       "version_minor": 0
      },
      "text/plain": [
       "Downloading https://raw.githubusercontent.com/stanfordnlp/stanza-resources/main/resources_1.10.0.json:   0%|  …"
      ]
     },
     "metadata": {},
     "output_type": "display_data"
    },
    {
     "name": "stderr",
     "output_type": "stream",
     "text": [
      "2025-07-10 00:25:18 INFO: Downloaded file to C:\\Users\\Vrishank\\stanza_resources\\resources.json\n",
      "2025-07-10 00:25:18 INFO: Downloading default packages for language: en (English) ...\n",
      "2025-07-10 00:25:19 INFO: File exists: C:\\Users\\Vrishank\\stanza_resources\\en\\default.zip\n",
      "2025-07-10 00:25:23 INFO: Finished downloading models and saved to C:\\Users\\Vrishank\\stanza_resources\n",
      "2025-07-10 00:25:23 INFO: Checking for updates to resources.json in case models have been updated.  Note: this behavior can be turned off with download_method=None or download_method=DownloadMethod.REUSE_RESOURCES\n"
     ]
    },
    {
     "data": {
      "application/vnd.jupyter.widget-view+json": {
       "model_id": "e8e30b1003724547a100cd121635e27f",
       "version_major": 2,
       "version_minor": 0
      },
      "text/plain": [
       "Downloading https://raw.githubusercontent.com/stanfordnlp/stanza-resources/main/resources_1.10.0.json:   0%|  …"
      ]
     },
     "metadata": {},
     "output_type": "display_data"
    },
    {
     "name": "stderr",
     "output_type": "stream",
     "text": [
      "2025-07-10 00:25:23 INFO: Downloaded file to C:\\Users\\Vrishank\\stanza_resources\\resources.json\n",
      "2025-07-10 00:25:23 WARNING: Language en package default expects mwt, which has been added\n",
      "2025-07-10 00:25:24 INFO: Loading these models for language: en (English):\n",
      "======================================\n",
      "| Processor    | Package             |\n",
      "--------------------------------------\n",
      "| tokenize     | combined            |\n",
      "| mwt          | combined            |\n",
      "| pos          | combined_charlm     |\n",
      "| constituency | ptb3-revised_charlm |\n",
      "======================================\n",
      "\n",
      "2025-07-10 00:25:24 INFO: Using device: cpu\n",
      "2025-07-10 00:25:24 INFO: Loading: tokenize\n",
      "2025-07-10 00:25:24 INFO: Loading: mwt\n",
      "2025-07-10 00:25:24 INFO: Loading: pos\n",
      "2025-07-10 00:25:26 INFO: Loading: constituency\n",
      "2025-07-10 00:25:27 INFO: Done loading processors!\n"
     ]
    }
   ],
   "source": [
    "# conolidation\n",
    "\n",
    "# imports\n",
    "import torch\n",
    "import stanza\n",
    "from nltk import Tree\n",
    "from gensim.scripts.glove2word2vec import glove2word2vec\n",
    "from gensim.models import KeyedVectors\n",
    "\n",
    "\n",
    "stanza.download('en')\n",
    "nlp = stanza.Pipeline(lang='en', processors='tokenize,pos,constituency')"
   ]
  },
  {
   "cell_type": "code",
   "execution_count": 16,
   "id": "b57c6008-ebf7-42da-8cf8-fa9cb08a7ce0",
   "metadata": {},
   "outputs": [
    {
     "name": "stdout",
     "output_type": "stream",
     "text": [
      "        ROOT                                                                          \n",
      "         |                                                                             \n",
      "         S                                                                            \n",
      "         |                                                                             \n",
      "         VP                                                                           \n",
      "   ______|____                                                                         \n",
      "  |           NP                                                                      \n",
      "  |       ____|_______________                                                         \n",
      "  |      |                    PP                                                      \n",
      "  |      |     _______________|_______________                                         \n",
      "  |      |    |                               NP                                      \n",
      "  |      |    |           ____________________|________                                \n",
      "  |      |    |          |                             VP                             \n",
      "  |      |    |          |              _______________|____________                   \n",
      "  |      |    |          |             |          PP                PP                \n",
      "  |      |    |          |             |       ___|____       ______|_____             \n",
      "  |      NP   |          NP            |      |        NP    |            NP          \n",
      "  |      |    |      ____|____         |      |        |     |       _____|______      \n",
      "  VB    NNS   IN    NN        NN      VBN     IN      NNP    IN     JJ           NN   \n",
      "  |      |    |     |         |        |      |        |     |      |            |     \n",
      "delete files with inode     number specified  by     REGEX under current     directory\n",
      "\n"
     ]
    }
   ],
   "source": [
    "doc = nlp(\"delete files with inode number specified by REGEX under current directory\")\n",
    "tree = Tree.fromstring(str(doc.sentences[0].constituency))\n",
    "tree.pretty_print()"
   ]
  },
  {
   "cell_type": "code",
   "execution_count": 26,
   "id": "32041d06-5c41-4e7a-9eec-19540e04e90a",
   "metadata": {},
   "outputs": [],
   "source": [
    "def get_node_phrases(tree, depth = 2):\n",
    "    leaf_positions = tree.treepositions('leaves')\n",
    "    word_to_phrase = []\n",
    "\n",
    "    for pos in leaf_positions:\n",
    "        try:\n",
    "            if depth == 2: # two levels up\n",
    "                parent_2 = pos[:-2] \n",
    "                phrase_subtree = tree[parent_2]\n",
    "            elif depth == 1: # one level up \n",
    "                parent_1 = pos[:-1]\n",
    "                phrase_subtree = tree[parent_1]\n",
    "            phrase = \" \".join(phrase_subtree.leaves())\n",
    "            word = tree[pos]\n",
    "            word_to_phrase.append(phrase)\n",
    "        except IndexError:\n",
    "            # Skip if not enough levels\n",
    "            continue\n",
    "\n",
    "    return word_to_phrase"
   ]
  },
  {
   "cell_type": "code",
   "execution_count": 29,
   "id": "fef117a1-2857-46a9-b1e6-636b0a8115c6",
   "metadata": {},
   "outputs": [
    {
     "name": "stdout",
     "output_type": "stream",
     "text": [
      "Phrase 1: 'delete files with inode number specified by REGEX under current directory'\n",
      "Phrase 2: 'files'\n",
      "Phrase 3: 'with inode number specified by REGEX under current directory'\n",
      "Phrase 4: 'inode number'\n",
      "Phrase 5: 'inode number'\n",
      "Phrase 6: 'specified by REGEX under current directory'\n",
      "Phrase 7: 'by REGEX'\n",
      "Phrase 8: 'REGEX'\n",
      "Phrase 9: 'under current directory'\n",
      "Phrase 10: 'current directory'\n",
      "Phrase 11: 'current directory'\n"
     ]
    }
   ],
   "source": [
    "phrases_data = get_node_phrases(tree)\n",
    "\n",
    "for i, phrase in enumerate(phrases_data):\n",
    "    print(f\"Phrase {i+1}: '{phrase}'\")"
   ]
  },
  {
   "cell_type": "code",
   "execution_count": 30,
   "id": "24c7fa75-0343-43d0-909b-37ccefa51846",
   "metadata": {},
   "outputs": [
    {
     "data": {
      "text/plain": [
       "['delete files with inode number specified by REGEX under current directory',\n",
       " 'files',\n",
       " 'with inode number specified by REGEX under current directory',\n",
       " 'inode number',\n",
       " 'inode number',\n",
       " 'specified by REGEX under current directory',\n",
       " 'by REGEX',\n",
       " 'REGEX',\n",
       " 'under current directory',\n",
       " 'current directory',\n",
       " 'current directory']"
      ]
     },
     "execution_count": 30,
     "metadata": {},
     "output_type": "execute_result"
    }
   ],
   "source": [
    "phrases = []\n",
    "for phrase in phrases_data:\n",
    "    phrases.append(phrase)\n",
    "\n",
    "phrases"
   ]
  },
  {
   "cell_type": "code",
   "execution_count": 20,
   "id": "9dfad163-b344-433b-a20c-d7148c9c4eb5",
   "metadata": {},
   "outputs": [],
   "source": [
    "def preprocess(phrases):\n",
    "    # remove phrases with more than 4 words\n",
    "    for i, phrase in enumerate(phrases):\n",
    "        if len(phrase.split()) > 4:\n",
    "            del phrases[i]\n",
    "            \n",
    "    # remove duplicate phrases\n",
    "    for i,phrase1 in enumerate(phrases):\n",
    "        for j,phrase2 in enumerate(phrases):\n",
    "            if j <= i:\n",
    "                continue\n",
    "            if phrase1 == phrase2:\n",
    "                del phrases[j]\n",
    "                \n",
    "    # remove redundant phrases\n",
    "    phrases = [\n",
    "        p for p in phrases\n",
    "        if not any(p != q and p in q for q in phrases)\n",
    "    ]\n",
    "\n",
    "    # add missing words in the right order\n",
    "    words = []\n",
    "    words_data = get_node_phrases(tree, depth=1)\n",
    "    for phrase in words_data:\n",
    "        words.append(phrase)\n",
    "\n",
    "    \n",
    "    phrase_tokens = {tuple(p.split()): p for p in phrases}\n",
    "    result = []\n",
    "    i = 0\n",
    "    while i < len(words):\n",
    "        for length in range(len(words), 0, -1):\n",
    "            slice_ = tuple(words[i:i+length])\n",
    "            if slice_ in phrase_tokens:\n",
    "                result.append(phrase_tokens[slice_])\n",
    "                i += length\n",
    "                break\n",
    "        else:\n",
    "            result.append(words[i])\n",
    "            i += 1\n",
    "    return result\n",
    "    "
   ]
  },
  {
   "cell_type": "code",
   "execution_count": 21,
   "id": "9e45c72d-b0fb-43a3-bb3d-6fd4934f0e2e",
   "metadata": {},
   "outputs": [],
   "source": [
    "result = preprocess(phrases)"
   ]
  },
  {
   "cell_type": "code",
   "execution_count": 22,
   "id": "1af43897-c799-4f6d-84c8-4f2aabeffd24",
   "metadata": {},
   "outputs": [
    {
     "name": "stderr",
     "output_type": "stream",
     "text": [
      "C:\\Users\\Vrishank\\AppData\\Local\\Temp\\ipykernel_1700\\1804109823.py:3: DeprecationWarning: Call to deprecated `glove2word2vec` (KeyedVectors.load_word2vec_format(.., binary=False, no_header=True) loads GLoVE text vectors.).\n",
      "  glove2word2vec(glove_input_file, word2vec_output_file)\n"
     ]
    }
   ],
   "source": [
    "glove_input_file = \"glove.6B.100d.txt\"\n",
    "word2vec_output_file = \"glove.6B.100d.word2vec.txt\"\n",
    "glove2word2vec(glove_input_file, word2vec_output_file)\n",
    "model = KeyedVectors.load_word2vec_format(\"glove.6B.100d.word2vec.txt\", binary=False)"
   ]
  },
  {
   "cell_type": "code",
   "execution_count": 23,
   "id": "91a5f2a4-ae5c-4296-bc15-9d8fa1a91f4a",
   "metadata": {},
   "outputs": [],
   "source": [
    "def get_embeddings(phrases):\n",
    "    embeddings = torch.ones(1, 400)\n",
    "    embedding_matrix = []\n",
    "    for phrase in phrases:\n",
    "        words = phrase.split()\n",
    "        word_vectors = [torch.tensor(model[word]) for word in words if word in model]\n",
    "        # averaging layer\n",
    "        embeddings = torch.stack(word_vectors).nanmean(dim=0)\n",
    "        embedding_matrix.append(embeddings)\n",
    "\n",
    "    return embedding_matrix"
   ]
  },
  {
   "cell_type": "code",
   "execution_count": 24,
   "id": "1c0a25f5-a94d-4892-b169-bd11c5c49845",
   "metadata": {},
   "outputs": [
    {
     "data": {
      "text/plain": [
       "[tensor([-0.9847, -0.3593,  0.4800,  0.0174, -0.0836,  0.3891, -0.5002, -0.0163,\n",
       "          1.4212,  0.2648,  0.7294,  0.4001, -0.6046, -0.3532,  0.0976,  0.6482,\n",
       "          0.1927, -0.0498, -0.2717,  0.2427,  0.0679,  0.0496,  0.5436,  0.4108,\n",
       "         -0.0109, -0.6417, -0.5708,  0.2236,  0.1816, -0.4774,  0.8653,  0.8999,\n",
       "         -0.8167,  0.2851, -0.4252, -0.0049, -0.5927, -0.8290, -0.0403, -0.2012,\n",
       "         -0.0182,  0.1779, -0.1748, -0.4405, -0.6667,  0.5978, -0.4166,  0.0637,\n",
       "         -0.4414, -0.6206,  0.7836,  1.2170, -0.7845, -0.3679, -0.8830, -0.1995,\n",
       "          0.3578, -0.1070,  0.7295,  0.5112, -0.4249,  0.4940,  0.1179,  0.1765,\n",
       "          0.8381, -0.1581,  1.0432,  0.4410, -0.1170, -0.2156,  0.0639,  0.3088,\n",
       "          0.0833, -0.3197,  0.4735,  0.6192, -0.6173,  0.0967,  0.5988, -0.8721,\n",
       "         -0.3186, -1.3572, -0.3145, -0.1944, -0.7842,  0.6458,  0.9027,  0.2160,\n",
       "          0.1839,  0.5275, -0.5662,  0.8874,  0.3996, -0.4262, -0.0713, -0.9892,\n",
       "          0.7064, -0.5807, -0.4291,  0.0543]),\n",
       " tensor([-3.7512e-01,  2.6203e-01,  4.8973e-01, -7.1912e-01,  4.5776e-01,\n",
       "          5.5531e-01, -1.0985e-01, -3.3747e-01,  8.8074e-01, -2.8614e-01,\n",
       "          1.3696e+00,  1.2411e-01,  5.7026e-02,  4.6044e-01, -3.4576e-01,\n",
       "          4.7871e-01,  1.1395e+00,  4.2713e-01,  2.4764e-02,  5.8796e-01,\n",
       "         -5.0709e-01, -4.7476e-02,  4.4359e-01,  4.5664e-01, -1.2058e-02,\n",
       "         -1.1437e+00,  4.3816e-01,  4.5130e-04, -1.2400e-01,  3.2061e-01,\n",
       "          1.4669e+00,  7.4359e-01, -1.0922e+00,  5.2666e-01,  4.6334e-01,\n",
       "         -6.2609e-02,  9.4656e-02, -1.0045e+00,  5.2551e-01, -1.9425e-01,\n",
       "         -2.1145e-01, -8.0361e-01, -2.7913e-01,  3.8551e-02, -5.9779e-01,\n",
       "         -1.3906e-01, -3.4552e-01, -1.1716e-01,  6.4193e-01, -5.1352e-02,\n",
       "          1.3084e+00,  2.4359e-01,  1.0612e-01,  3.4545e-01, -1.6806e-01,\n",
       "         -4.7761e-01, -1.6982e-01, -2.8244e-01,  1.9188e+00,  4.3093e-01,\n",
       "         -3.3077e-01,  9.3311e-01, -2.4628e-02, -3.9179e-01,  8.9157e-01,\n",
       "         -5.2329e-01,  7.2390e-01,  3.3864e-01,  2.4440e-01,  3.2011e-01,\n",
       "          4.1341e-01,  4.7137e-01,  1.3209e-01, -5.5914e-01,  4.8867e-01,\n",
       "          3.3188e-01, -5.6991e-01,  3.2097e-01, -5.3676e-01,  4.3054e-01,\n",
       "          3.0282e-01, -1.3521e-01,  6.6321e-02, -2.3677e-02, -1.2560e+00,\n",
       "          4.3318e-01,  4.2487e-01, -8.9620e-03,  9.7996e-02,  3.7559e-01,\n",
       "         -2.7374e-01,  8.6471e-01,  1.8942e-01,  9.4514e-02,  8.3627e-01,\n",
       "         -7.3639e-01,  7.6153e-01, -2.3308e-01,  3.9213e-01, -2.5542e-01]),\n",
       " tensor([-0.4361,  0.3910,  0.5166, -0.1386,  0.2029,  0.5072, -0.0125,  0.2295,\n",
       "         -0.6316,  0.2120, -0.0180, -0.3936,  0.7416,  0.3022,  0.5179, -0.2519,\n",
       "          0.2537, -0.6518, -0.4296,  0.0094,  0.0233, -0.3925,  0.3495,  0.2122,\n",
       "          0.7346, -0.2196, -0.0286, -0.3464, -0.2093, -0.2709, -0.1764,  0.8240,\n",
       "         -0.0823, -0.0349,  0.0797,  0.3484,  0.6089,  0.2281, -0.2963,  0.1863,\n",
       "          0.2340, -0.7097,  0.1631, -0.2086,  0.0924, -0.0754, -0.1391, -0.3512,\n",
       "         -0.1997, -0.4169, -0.3149,  0.1612,  0.0389,  1.6654, -0.1240, -3.3419,\n",
       "          0.1093, -0.0262,  1.2440,  0.8437, -0.1568,  0.7904, -0.0424,  0.1888,\n",
       "          0.0643, -0.1168,  1.0467,  0.7181,  0.5783,  0.2701, -0.5091, -0.0840,\n",
       "         -0.1437, -0.7641,  0.2742,  0.5681, -0.3938, -0.3256, -0.9285, -0.1310,\n",
       "          1.3277,  0.1185, -0.1555,  0.5972, -1.0840, -0.0581,  0.2389,  0.1456,\n",
       "         -0.5930, -0.4751, -0.2206, -0.3759, -0.7965,  0.0135, -0.4460, -0.3462,\n",
       "         -0.7540, -0.3517,  0.9946,  0.0882]),\n",
       " tensor([-2.5466e-01,  4.6022e-01, -8.6249e-02,  3.2874e-01,  1.3644e-01,\n",
       "          1.7731e-01, -1.3302e-01, -8.8208e-02,  3.4200e-01,  1.9449e-01,\n",
       "          1.8568e-01, -2.7879e-01,  1.3684e-01, -2.2338e-01,  6.1770e-02,\n",
       "          3.6213e-01, -1.6948e-01,  3.1270e-01,  1.1896e-01,  4.7815e-02,\n",
       "          8.9210e-02, -9.8475e-02, -3.6715e-02, -7.9905e-02,  8.0522e-02,\n",
       "         -5.7943e-01,  9.2639e-01, -5.7600e-02, -1.9045e-02, -2.1432e-01,\n",
       "          2.2687e-01,  1.3957e-01,  3.3733e-01,  1.3520e-01,  1.6723e-01,\n",
       "         -1.2664e-01, -4.1686e-01, -4.8000e-04,  1.3760e-02, -6.1909e-02,\n",
       "          9.7710e-02,  1.2567e-01, -1.3900e-02,  2.2574e-01,  2.8929e-01,\n",
       "         -1.0597e-01, -8.6375e-02, -3.1012e-01, -2.4597e-01,  3.2625e-01,\n",
       "          2.0746e-01, -2.4151e-01, -5.8172e-02,  5.0924e-01,  3.4320e-02,\n",
       "         -7.5128e-01,  1.1931e-01, -2.3099e-01,  7.7235e-01,  7.3537e-01,\n",
       "         -1.7078e-01, -2.0736e-01,  3.6801e-02,  3.5611e-01,  6.7916e-01,\n",
       "         -1.5058e-01, -2.8346e-01,  9.5210e-02,  6.1242e-01, -1.4099e-01,\n",
       "         -1.3988e-01,  8.8425e-02, -8.1856e-02,  3.5665e-02,  5.1123e-01,\n",
       "          1.7443e-01,  7.7700e-03, -4.1899e-01, -1.3596e-01,  6.0375e-02,\n",
       "          6.6777e-01, -3.3970e-01,  9.2755e-02, -3.4207e-01, -6.1138e-01,\n",
       "         -5.1653e-01,  3.4408e-01, -6.8051e-01, -1.0642e-01,  3.9187e-01,\n",
       "         -3.8451e-01,  5.0806e-01,  3.4120e-02, -1.3724e-01, -2.7705e-01,\n",
       "         -4.4016e-01, -1.6452e-01, -2.5491e-01,  3.5011e-01, -3.3013e-01]),\n",
       " tensor([-0.5379, -0.2004,  0.1524,  0.9681, -0.0605, -0.1833, -0.4386,  0.5065,\n",
       "         -0.0730,  0.5399,  0.4967,  0.0029,  0.2796, -0.4189,  0.4314, -0.1137,\n",
       "          0.1880,  0.4091, -0.5703, -0.4805, -0.4460, -0.7702,  0.1484, -0.1927,\n",
       "         -0.2917, -0.4670, -0.1470, -0.4922, -0.6049,  0.0695,  0.4601,  0.1861,\n",
       "         -0.0284, -0.5028,  0.4651,  0.5735,  0.4683, -0.1592, -0.4937, -0.3052,\n",
       "          0.2934,  0.0363,  0.4268,  0.4889, -0.2277, -0.0020, -0.0353, -0.6015,\n",
       "         -0.6431, -0.3185,  0.9608,  0.0589,  0.5416,  0.2390, -0.2274,  0.0252,\n",
       "          0.0392, -0.4183,  1.0968,  0.5924,  0.1322,  0.0717, -0.7524,  0.0553,\n",
       "          0.9329, -0.2558, -0.2956, -0.2799,  0.1413, -0.1335, -0.5678, -0.4259,\n",
       "          0.6446,  0.2208,  0.7743, -0.1964, -0.1975, -0.8991, -0.4520, -0.4127,\n",
       "          0.1896, -0.7128, -0.5302, -0.4010, -0.9308,  0.6284,  0.5433, -0.4690,\n",
       "          0.4046,  0.3629, -1.2183,  0.0744,  0.1128, -0.3040, -0.1970,  0.0989,\n",
       "         -0.0720, -0.2787,  0.2919, -0.2382]),\n",
       " tensor([-0.2087, -0.1174,  0.2648, -0.2834,  0.1958,  0.7446, -0.0389,  0.0285,\n",
       "         -0.4425, -0.3043,  0.2713, -0.5191,  0.5218, -0.7665,  0.2804, -0.4834,\n",
       "         -0.1563, -0.4970, -0.5102, -0.0365,  0.2058, -0.6136,  0.4639,  0.7350,\n",
       "          0.6681, -0.4443, -0.1760, -0.5478, -0.0135,  0.1633,  0.2815,  0.0542,\n",
       "         -0.1991, -0.1907, -0.4318,  0.1478,  0.2756,  0.1857, -0.4078, -0.1541,\n",
       "         -0.5885, -0.0085, -0.1418,  0.7061,  0.5403, -0.4331,  0.1750, -0.4621,\n",
       "         -0.3137, -0.3404, -0.2513,  0.6823,  0.3358,  1.5862, -0.3943, -2.9938,\n",
       "         -0.2977,  0.0421,  1.9075, -0.0726, -0.0922,  0.6613,  0.1387,  0.7877,\n",
       "          0.6931, -0.2218,  0.7171,  1.1453,  1.2153,  0.1420, -0.7991,  0.1697,\n",
       "         -0.3453, -0.5174, -0.1565,  0.1876,  0.1694, -0.0083, -1.4511,  0.0620,\n",
       "          1.1019,  0.0844, -0.3415,  0.4999, -1.1106, -0.1376,  0.1538, -0.0610,\n",
       "         -0.5383, -0.7894, -0.1257, -0.5738, -0.7348,  0.5477, -0.2846, -0.2435,\n",
       "         -0.2751, -0.3327,  0.2788, -0.8705]),\n",
       " tensor([-2.3835e-01,  3.4547e-01,  2.6779e-01, -2.2296e-01,  2.6960e-01,\n",
       "         -2.3845e-02, -3.0161e-01,  1.1888e-01, -2.7651e-01,  1.2901e-01,\n",
       "          4.4725e-01,  4.3123e-02,  5.7167e-01, -1.8752e-01,  3.0994e-01,\n",
       "         -3.4690e-01,  5.0240e-01, -8.7928e-02, -3.9962e-01, -2.2600e-01,\n",
       "         -5.3034e-01, -7.5803e-02,  3.7995e-01,  1.3395e-01,  1.9598e-02,\n",
       "         -8.5957e-01,  2.9113e-01, -4.4798e-01, -1.7463e-02, -3.5936e-01,\n",
       "          2.7759e-01,  3.6927e-01, -2.8580e-03, -2.4514e-01, -1.6756e-01,\n",
       "          8.1506e-01, -9.3667e-03, -2.6716e-01,  2.2960e-02, -7.5692e-02,\n",
       "         -1.0768e-01,  4.5973e-02,  3.4704e-01, -6.9417e-02,  2.7694e-01,\n",
       "          8.2228e-02, -1.4611e-02, -3.2707e-01, -1.7241e-01, -3.4718e-01,\n",
       "          3.3676e-01,  1.2695e-01, -1.8367e-03,  5.1995e-01, -1.9998e-01,\n",
       "         -1.8971e+00,  1.0585e-01, -4.3474e-01,  1.7615e+00,  4.1156e-01,\n",
       "          1.3456e-01,  1.9390e-02, -4.3097e-01,  4.5954e-02,  8.9136e-01,\n",
       "         -2.3383e-01, -3.3630e-02,  1.0235e-02,  6.6236e-01,  2.6562e-02,\n",
       "          1.8420e-01,  1.4232e-01,  4.7251e-02, -3.9621e-01,  2.7813e-02,\n",
       "         -2.7834e-01, -5.3546e-02,  2.5155e-01, -8.8324e-01, -3.5307e-01,\n",
       "          4.7387e-01, -1.6970e-01, -3.4842e-01,  2.3871e-01, -6.6409e-01,\n",
       "          1.5407e-01, -8.9057e-02, -5.2210e-01,  2.3966e-01, -4.0687e-02,\n",
       "          1.6719e-01,  2.7456e-01, -1.3586e-01,  1.2141e-01,  1.9435e-01,\n",
       "         -2.9218e-01,  3.6150e-02, -3.4901e-01,  5.3811e-01, -2.0100e-01])]"
      ]
     },
     "execution_count": 24,
     "metadata": {},
     "output_type": "execute_result"
    }
   ],
   "source": [
    "embeddings = get_embeddings(result)\n",
    "embeddings"
   ]
  },
  {
   "cell_type": "code",
   "execution_count": 25,
   "id": "4667adb7-2290-4c9f-98e2-c85f1badb794",
   "metadata": {},
   "outputs": [
    {
     "data": {
      "text/plain": [
       "'C:\\\\Users\\\\Vrishank\\\\NLC to Bash'"
      ]
     },
     "execution_count": 25,
     "metadata": {},
     "output_type": "execute_result"
    }
   ],
   "source": []
  },
  {
   "cell_type": "code",
   "execution_count": null,
   "id": "1852ad70-c822-457c-b094-1b5cf25d9894",
   "metadata": {},
   "outputs": [],
   "source": []
  },
  {
   "cell_type": "code",
   "execution_count": null,
   "id": "d10ddf54-4d95-42ab-a2cd-dd46c481011d",
   "metadata": {},
   "outputs": [],
   "source": []
  },
  {
   "cell_type": "code",
   "execution_count": null,
   "id": "2d5128f8-8433-4863-8b0c-52b47aca566a",
   "metadata": {},
   "outputs": [],
   "source": []
  },
  {
   "cell_type": "code",
   "execution_count": null,
   "id": "b5ee193b-1b43-4233-8671-32458304aa0d",
   "metadata": {},
   "outputs": [],
   "source": []
  },
  {
   "cell_type": "code",
   "execution_count": null,
   "id": "894dc099-a9ae-4981-a17d-e806fd54a9d7",
   "metadata": {},
   "outputs": [],
   "source": []
  }
 ],
 "metadata": {
  "kernelspec": {
   "display_name": "Python 3 (ipykernel)",
   "language": "python",
   "name": "python3"
  },
  "language_info": {
   "codemirror_mode": {
    "name": "ipython",
    "version": 3
   },
   "file_extension": ".py",
   "mimetype": "text/x-python",
   "name": "python",
   "nbconvert_exporter": "python",
   "pygments_lexer": "ipython3",
   "version": "3.12.4"
  }
 },
 "nbformat": 4,
 "nbformat_minor": 5
}
