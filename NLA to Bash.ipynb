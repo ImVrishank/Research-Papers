{
 "cells": [
  {
   "cell_type": "code",
   "execution_count": 1,
   "id": "46179f7c-fbf9-43e7-9696-7b03533d275e",
   "metadata": {},
   "outputs": [
    {
     "name": "stderr",
     "output_type": "stream",
     "text": [
      "DEPRECATION: Loading egg at c:\\users\\vrishank\\appdata\\local\\programs\\python\\python312\\lib\\site-packages\\object_detection-0.1-py3.12.egg is deprecated. pip 25.1 will enforce this behaviour change. A possible replacement is to use pip for package installation. Discussion can be found at https://github.com/pypa/pip/issues/12330\n",
      "DEPRECATION: Loading egg at c:\\users\\vrishank\\appdata\\local\\programs\\python\\python312\\lib\\site-packages\\pyparsing-2.4.7-py3.12.egg is deprecated. pip 25.1 will enforce this behaviour change. A possible replacement is to use pip for package installation. Discussion can be found at https://github.com/pypa/pip/issues/12330\n",
      "DEPRECATION: Loading egg at c:\\users\\vrishank\\appdata\\local\\programs\\python\\python312\\lib\\site-packages\\sacrebleu-2.2.0-py3.12.egg is deprecated. pip 25.1 will enforce this behaviour change. A possible replacement is to use pip for package installation. Discussion can be found at https://github.com/pypa/pip/issues/12330\n",
      "\n",
      "[notice] A new release of pip is available: 24.3.1 -> 25.1.1\n",
      "[notice] To update, run: python.exe -m pip install --upgrade pip\n"
     ]
    }
   ],
   "source": [
    "!pip install stanza -q"
   ]
  },
  {
   "cell_type": "code",
   "execution_count": 15,
   "id": "f97464cd-06d6-4731-a5be-e9ca5a1403f5",
   "metadata": {},
   "outputs": [
    {
     "name": "stdout",
     "output_type": "stream",
     "text": [
      "Collecting gensim\n",
      "  Downloading gensim-4.3.3-cp312-cp312-win_amd64.whl.metadata (8.2 kB)\n",
      "Requirement already satisfied: numpy<2.0,>=1.18.5 in c:\\users\\vrishank\\appdata\\local\\programs\\python\\python312\\lib\\site-packages (from gensim) (1.26.4)\n",
      "Collecting scipy<1.14.0,>=1.7.0 (from gensim)\n",
      "  Downloading scipy-1.13.1-cp312-cp312-win_amd64.whl.metadata (60 kB)\n",
      "Collecting smart-open>=1.8.1 (from gensim)\n",
      "  Downloading smart_open-7.1.0-py3-none-any.whl.metadata (24 kB)\n",
      "Requirement already satisfied: wrapt in c:\\users\\vrishank\\appdata\\local\\programs\\python\\python312\\lib\\site-packages (from smart-open>=1.8.1->gensim) (1.16.0)\n",
      "Downloading gensim-4.3.3-cp312-cp312-win_amd64.whl (24.0 MB)\n",
      "   ---------------------------------------- 0.0/24.0 MB ? eta -:--:--\n",
      "   - -------------------------------------- 0.8/24.0 MB 6.7 MB/s eta 0:00:04\n",
      "   --- ------------------------------------ 2.4/24.0 MB 6.7 MB/s eta 0:00:04\n",
      "   ------ --------------------------------- 3.7/24.0 MB 7.3 MB/s eta 0:00:03\n",
      "   -------- ------------------------------- 5.2/24.0 MB 7.1 MB/s eta 0:00:03\n",
      "   ----------- ---------------------------- 6.8/24.0 MB 7.1 MB/s eta 0:00:03\n",
      "   -------------- ------------------------- 8.7/24.0 MB 7.3 MB/s eta 0:00:03\n",
      "   ----------------- ---------------------- 10.2/24.0 MB 7.2 MB/s eta 0:00:02\n",
      "   ------------------- -------------------- 11.8/24.0 MB 7.4 MB/s eta 0:00:02\n",
      "   ---------------------- ----------------- 13.6/24.0 MB 7.6 MB/s eta 0:00:02\n",
      "   ------------------------ --------------- 14.7/24.0 MB 7.3 MB/s eta 0:00:02\n",
      "   --------------------------- ------------ 16.5/24.0 MB 7.4 MB/s eta 0:00:02\n",
      "   ------------------------------ --------- 18.1/24.0 MB 7.5 MB/s eta 0:00:01\n",
      "   -------------------------------- ------- 19.7/24.0 MB 7.5 MB/s eta 0:00:01\n",
      "   ----------------------------------- ---- 21.5/24.0 MB 7.5 MB/s eta 0:00:01\n",
      "   -------------------------------------- - 23.1/24.0 MB 7.5 MB/s eta 0:00:01\n",
      "   ---------------------------------------  23.9/24.0 MB 7.5 MB/s eta 0:00:01\n",
      "   ---------------------------------------- 24.0/24.0 MB 6.9 MB/s eta 0:00:00\n",
      "Downloading scipy-1.13.1-cp312-cp312-win_amd64.whl (45.9 MB)\n",
      "   ---------------------------------------- 0.0/45.9 MB ? eta -:--:--\n",
      "   - -------------------------------------- 1.6/45.9 MB 8.3 MB/s eta 0:00:06\n",
      "   --- ------------------------------------ 3.7/45.9 MB 8.7 MB/s eta 0:00:05\n",
      "   ---- ----------------------------------- 5.5/45.9 MB 9.1 MB/s eta 0:00:05\n",
      "   ----- ---------------------------------- 6.6/45.9 MB 7.9 MB/s eta 0:00:05\n",
      "   ------ --------------------------------- 7.6/45.9 MB 7.3 MB/s eta 0:00:06\n",
      "   ------- -------------------------------- 9.2/45.9 MB 7.4 MB/s eta 0:00:05\n",
      "   --------- ------------------------------ 11.0/45.9 MB 7.5 MB/s eta 0:00:05\n",
      "   ---------- ----------------------------- 12.3/45.9 MB 7.4 MB/s eta 0:00:05\n",
      "   ------------ --------------------------- 13.9/45.9 MB 7.3 MB/s eta 0:00:05\n",
      "   ------------- -------------------------- 15.5/45.9 MB 7.3 MB/s eta 0:00:05\n",
      "   -------------- ------------------------- 16.8/45.9 MB 7.2 MB/s eta 0:00:05\n",
      "   --------------- ------------------------ 18.4/45.9 MB 7.3 MB/s eta 0:00:04\n",
      "   ----------------- ---------------------- 19.9/45.9 MB 7.4 MB/s eta 0:00:04\n",
      "   ------------------ --------------------- 21.8/45.9 MB 7.4 MB/s eta 0:00:04\n",
      "   -------------------- ------------------- 23.6/45.9 MB 7.4 MB/s eta 0:00:04\n",
      "   --------------------- ------------------ 24.9/45.9 MB 7.4 MB/s eta 0:00:03\n",
      "   ----------------------- ---------------- 26.5/45.9 MB 7.4 MB/s eta 0:00:03\n",
      "   ------------------------ --------------- 28.0/45.9 MB 7.4 MB/s eta 0:00:03\n",
      "   -------------------------- ------------- 29.9/45.9 MB 7.5 MB/s eta 0:00:03\n",
      "   --------------------------- ------------ 31.7/45.9 MB 7.5 MB/s eta 0:00:02\n",
      "   ----------------------------- ---------- 33.6/45.9 MB 7.6 MB/s eta 0:00:02\n",
      "   ------------------------------ --------- 35.4/45.9 MB 7.7 MB/s eta 0:00:02\n",
      "   -------------------------------- ------- 37.2/45.9 MB 7.7 MB/s eta 0:00:02\n",
      "   ---------------------------------- ----- 39.1/45.9 MB 7.7 MB/s eta 0:00:01\n",
      "   ----------------------------------- ---- 40.9/45.9 MB 7.8 MB/s eta 0:00:01\n",
      "   ------------------------------------- -- 42.7/45.9 MB 7.8 MB/s eta 0:00:01\n",
      "   -------------------------------------- - 44.3/45.9 MB 7.8 MB/s eta 0:00:01\n",
      "   ---------------------------------------  45.9/45.9 MB 7.8 MB/s eta 0:00:01\n",
      "   ---------------------------------------  45.9/45.9 MB 7.8 MB/s eta 0:00:01\n",
      "   ---------------------------------------  45.9/45.9 MB 7.8 MB/s eta 0:00:01\n",
      "   ---------------------------------------  45.9/45.9 MB 7.8 MB/s eta 0:00:01\n",
      "   ---------------------------------------- 45.9/45.9 MB 6.9 MB/s eta 0:00:00\n",
      "Downloading smart_open-7.1.0-py3-none-any.whl (61 kB)\n",
      "Installing collected packages: smart-open, scipy, gensim\n",
      "  Attempting uninstall: scipy\n",
      "    Found existing installation: scipy 1.15.1\n",
      "    Uninstalling scipy-1.15.1:\n",
      "      Successfully uninstalled scipy-1.15.1\n",
      "Successfully installed gensim-4.3.3 scipy-1.13.1 smart-open-7.1.0\n"
     ]
    },
    {
     "name": "stderr",
     "output_type": "stream",
     "text": [
      "DEPRECATION: Loading egg at c:\\users\\vrishank\\appdata\\local\\programs\\python\\python312\\lib\\site-packages\\object_detection-0.1-py3.12.egg is deprecated. pip 25.1 will enforce this behaviour change. A possible replacement is to use pip for package installation. Discussion can be found at https://github.com/pypa/pip/issues/12330\n",
      "DEPRECATION: Loading egg at c:\\users\\vrishank\\appdata\\local\\programs\\python\\python312\\lib\\site-packages\\pyparsing-2.4.7-py3.12.egg is deprecated. pip 25.1 will enforce this behaviour change. A possible replacement is to use pip for package installation. Discussion can be found at https://github.com/pypa/pip/issues/12330\n",
      "DEPRECATION: Loading egg at c:\\users\\vrishank\\appdata\\local\\programs\\python\\python312\\lib\\site-packages\\sacrebleu-2.2.0-py3.12.egg is deprecated. pip 25.1 will enforce this behaviour change. A possible replacement is to use pip for package installation. Discussion can be found at https://github.com/pypa/pip/issues/12330\n",
      "  WARNING: Failed to remove contents in a temporary directory 'C:\\Users\\Vrishank\\AppData\\Local\\Programs\\Python\\Python312\\Lib\\site-packages\\~cipy.libs'.\n",
      "  You can safely remove it manually.\n",
      "  WARNING: Failed to remove contents in a temporary directory 'C:\\Users\\Vrishank\\AppData\\Local\\Programs\\Python\\Python312\\Lib\\site-packages\\~cipy'.\n",
      "  You can safely remove it manually.\n",
      "ERROR: pip's dependency resolver does not currently take into account all the packages that are installed. This behaviour is the source of the following dependency conflicts.\n",
      "object-detection 0.1 requires apache-beam, which is not installed.\n",
      "object-detection 0.1 requires avro-python3, which is not installed.\n",
      "object-detection 0.1 requires contextlib2, which is not installed.\n",
      "object-detection 0.1 requires Cython, which is not installed.\n",
      "object-detection 0.1 requires lvis, which is not installed.\n",
      "object-detection 0.1 requires lxml, which is not installed.\n",
      "object-detection 0.1 requires matplotlib, which is not installed.\n",
      "object-detection 0.1 requires pillow, which is not installed.\n",
      "object-detection 0.1 requires pycocotools, which is not installed.\n",
      "object-detection 0.1 requires tensorflow_io, which is not installed.\n",
      "object-detection 0.1 requires tf-models-official>=2.5.1, which is not installed.\n",
      "\n",
      "[notice] A new release of pip is available: 24.3.1 -> 25.1.1\n",
      "[notice] To update, run: python.exe -m pip install --upgrade pip\n"
     ]
    }
   ],
   "source": [
    "!pip install gensim"
   ]
  },
  {
   "cell_type": "code",
   "execution_count": 42,
   "id": "2fbd2ca1-ec71-4c08-b3c2-f8bfb216bb5a",
   "metadata": {},
   "outputs": [
    {
     "data": {
      "application/vnd.jupyter.widget-view+json": {
       "model_id": "93d0f2c7ddf14e188a613bda30a45529",
       "version_major": 2,
       "version_minor": 0
      },
      "text/plain": [
       "Downloading https://raw.githubusercontent.com/stanfordnlp/stanza-resources/main/resources_1.10.0.json:   0%|  …"
      ]
     },
     "metadata": {},
     "output_type": "display_data"
    },
    {
     "name": "stderr",
     "output_type": "stream",
     "text": [
      "2025-06-29 20:11:34 INFO: Downloaded file to C:\\Users\\Vrishank\\stanza_resources\\resources.json\n",
      "2025-06-29 20:11:34 INFO: Downloading default packages for language: en (English) ...\n",
      "2025-06-29 20:11:36 INFO: File exists: C:\\Users\\Vrishank\\stanza_resources\\en\\default.zip\n",
      "2025-06-29 20:11:39 INFO: Finished downloading models and saved to C:\\Users\\Vrishank\\stanza_resources\n",
      "2025-06-29 20:11:39 INFO: Checking for updates to resources.json in case models have been updated.  Note: this behavior can be turned off with download_method=None or download_method=DownloadMethod.REUSE_RESOURCES\n"
     ]
    },
    {
     "data": {
      "application/vnd.jupyter.widget-view+json": {
       "model_id": "2b0d2e7e021d4860b14843a5108b785d",
       "version_major": 2,
       "version_minor": 0
      },
      "text/plain": [
       "Downloading https://raw.githubusercontent.com/stanfordnlp/stanza-resources/main/resources_1.10.0.json:   0%|  …"
      ]
     },
     "metadata": {},
     "output_type": "display_data"
    },
    {
     "name": "stderr",
     "output_type": "stream",
     "text": [
      "2025-06-29 20:11:39 INFO: Downloaded file to C:\\Users\\Vrishank\\stanza_resources\\resources.json\n",
      "2025-06-29 20:11:39 WARNING: Language en package default expects mwt, which has been added\n",
      "2025-06-29 20:11:39 INFO: Loading these models for language: en (English):\n",
      "======================================\n",
      "| Processor    | Package             |\n",
      "--------------------------------------\n",
      "| tokenize     | combined            |\n",
      "| mwt          | combined            |\n",
      "| pos          | combined_charlm     |\n",
      "| constituency | ptb3-revised_charlm |\n",
      "======================================\n",
      "\n",
      "2025-06-29 20:11:39 INFO: Using device: cpu\n",
      "2025-06-29 20:11:39 INFO: Loading: tokenize\n",
      "2025-06-29 20:11:43 INFO: Loading: mwt\n",
      "2025-06-29 20:11:43 INFO: Loading: pos\n",
      "2025-06-29 20:11:44 INFO: Loading: constituency\n",
      "2025-06-29 20:11:45 INFO: Done loading processors!\n"
     ]
    }
   ],
   "source": [
    "import stanza\n",
    "from nltk import Tree\n",
    "\n",
    "stanza.download('en')\n",
    "nlp = stanza.Pipeline(lang='en', processors='tokenize,pos,constituency')\n"
   ]
  },
  {
   "cell_type": "code",
   "execution_count": 43,
   "id": "2c0cd3b3-23ee-403c-8600-982f5d79ef8c",
   "metadata": {},
   "outputs": [
    {
     "name": "stdout",
     "output_type": "stream",
     "text": [
      "        ROOT                                                                          \n",
      "         |                                                                             \n",
      "         S                                                                            \n",
      "         |                                                                             \n",
      "         VP                                                                           \n",
      "   ______|____                                                                         \n",
      "  |           NP                                                                      \n",
      "  |       ____|_______________                                                         \n",
      "  |      |                    PP                                                      \n",
      "  |      |     _______________|_______________                                         \n",
      "  |      |    |                               NP                                      \n",
      "  |      |    |           ____________________|________                                \n",
      "  |      |    |          |                             VP                             \n",
      "  |      |    |          |              _______________|____________                   \n",
      "  |      |    |          |             |          PP                PP                \n",
      "  |      |    |          |             |       ___|____       ______|_____             \n",
      "  |      NP   |          NP            |      |        NP    |            NP          \n",
      "  |      |    |      ____|____         |      |        |     |       _____|______      \n",
      "  VB    NNS   IN    NN        NN      VBN     IN      NNP    IN     JJ           NN   \n",
      "  |      |    |     |         |        |      |        |     |      |            |     \n",
      "delete files with inode     number specified  by     REGEX under current     directory\n",
      "\n"
     ]
    }
   ],
   "source": [
    "doc = nlp(\"delete files with inode number specified by REGEX under current directory\")\n",
    "tree = Tree.fromstring(str(doc.sentences[0].constituency))\n",
    "tree.pretty_print()"
   ]
  },
  {
   "cell_type": "code",
   "execution_count": 44,
   "id": "d74ccc0e-4a27-4b2a-a959-aaff54b6154d",
   "metadata": {},
   "outputs": [
    {
     "name": "stdout",
     "output_type": "stream",
     "text": [
      "Word: 'delete' → Phrase: 'delete files with inode number specified by REGEX under current directory' (Type: VP)\n",
      "Word: 'files' → Phrase: 'files' (Type: NP)\n",
      "Word: 'with' → Phrase: 'with inode number specified by REGEX under current directory' (Type: PP)\n",
      "Word: 'inode' → Phrase: 'inode number' (Type: NP)\n",
      "Word: 'number' → Phrase: 'inode number' (Type: NP)\n",
      "Word: 'specified' → Phrase: 'specified by REGEX under current directory' (Type: VP)\n",
      "Word: 'by' → Phrase: 'by REGEX' (Type: PP)\n",
      "Word: 'REGEX' → Phrase: 'REGEX' (Type: NP)\n",
      "Word: 'under' → Phrase: 'under current directory' (Type: PP)\n",
      "Word: 'current' → Phrase: 'current directory' (Type: NP)\n",
      "Word: 'directory' → Phrase: 'current directory' (Type: NP)\n"
     ]
    }
   ],
   "source": [
    "def get_node_phrases(tree, depth = 2):\n",
    "    leaf_positions = tree.treepositions('leaves')\n",
    "    word_to_phrase = []\n",
    "\n",
    "    for pos in leaf_positions:\n",
    "        try:\n",
    "            # Go up two levels from the leaf\n",
    "            parent_1 = pos[:-1]       # immediate parent\n",
    "            parent_2 = pos[:-2]\n",
    "            if depth == 2: # two levels up\n",
    "                phrase_subtree = tree[parent_2]\n",
    "            elif depth == 1: \n",
    "                phrase_subtree = tree[parent_1]\n",
    "            phrase = \" \".join(phrase_subtree.leaves())\n",
    "            word = tree[pos]\n",
    "            word_to_phrase.append((word, phrase, phrase_subtree.label()))\n",
    "        except IndexError:\n",
    "            # Skip if not enough levels\n",
    "            continue\n",
    "\n",
    "    return word_to_phrase\n",
    "\n",
    "phrases_data = get_node_phrases(tree)\n",
    "\n",
    "for word, phrase, label in phrases_data:\n",
    "    print(f\"Word: '{word}' → Phrase: '{phrase}' (Type: {label})\")\n"
   ]
  },
  {
   "cell_type": "code",
   "execution_count": 45,
   "id": "23c0f4e9-d2fa-4c51-93a2-2993c16c6a5f",
   "metadata": {},
   "outputs": [
    {
     "data": {
      "text/plain": [
       "['delete files with inode number specified by REGEX under current directory',\n",
       " 'files',\n",
       " 'with inode number specified by REGEX under current directory',\n",
       " 'inode number',\n",
       " 'inode number',\n",
       " 'specified by REGEX under current directory',\n",
       " 'by REGEX',\n",
       " 'REGEX',\n",
       " 'under current directory',\n",
       " 'current directory',\n",
       " 'current directory']"
      ]
     },
     "execution_count": 45,
     "metadata": {},
     "output_type": "execute_result"
    }
   ],
   "source": [
    "phrases = []\n",
    "for word, phrase, label in phrases_data:\n",
    "    phrases.append(phrase)\n",
    "\n",
    "phrases"
   ]
  },
  {
   "cell_type": "markdown",
   "id": "ae8b62b8-6aa4-42ec-8e34-0fa682c136eb",
   "metadata": {},
   "source": [
    "Now that we have that,\n",
    "* remove the phrases with more than 4 words. \n",
    "* add the missing words in the right order. (\"delete\" is missing here)\n",
    "* remove duplicate phrases\n",
    "* remove redundant phrases (\"by REGEX\" and \"REGEX\", \"current directory\" and \"under current directory\")\n",
    "* "
   ]
  },
  {
   "cell_type": "code",
   "execution_count": 46,
   "id": "2662a7b3-c59d-4ba2-9cf9-e72de9ccf3eb",
   "metadata": {},
   "outputs": [
    {
     "data": {
      "text/plain": [
       "['files',\n",
       " 'inode number',\n",
       " 'inode number',\n",
       " 'by REGEX',\n",
       " 'REGEX',\n",
       " 'under current directory',\n",
       " 'current directory',\n",
       " 'current directory']"
      ]
     },
     "execution_count": 46,
     "metadata": {},
     "output_type": "execute_result"
    }
   ],
   "source": [
    "# remove phrases with more than 4 words\n",
    "for i, phrase in enumerate(phrases):\n",
    "    if len(phrase.split()) > 4:\n",
    "        del phrases[i]\n",
    "\n",
    "phrases"
   ]
  },
  {
   "cell_type": "code",
   "execution_count": 47,
   "id": "6c7a4a76-7d90-4cd6-822b-c2e208441424",
   "metadata": {},
   "outputs": [
    {
     "data": {
      "text/plain": [
       "['files',\n",
       " 'inode number',\n",
       " 'by REGEX',\n",
       " 'REGEX',\n",
       " 'under current directory',\n",
       " 'current directory']"
      ]
     },
     "execution_count": 47,
     "metadata": {},
     "output_type": "execute_result"
    }
   ],
   "source": [
    "# remove duplicate phrases\n",
    "for i,phrase1 in enumerate(phrases):\n",
    "    for j,phrase2 in enumerate(phrases):\n",
    "        if j <= i:\n",
    "            continue\n",
    "\n",
    "        if phrase1 == phrase2:\n",
    "            del phrases[j]\n",
    "\n",
    "phrases"
   ]
  },
  {
   "cell_type": "markdown",
   "id": "7b7369be-1d6a-4ece-914a-1e90614aca63",
   "metadata": {},
   "source": [
    "whats left:\n",
    "* remove redundant phrases (\"by REGEX\" and \"REGEX\", \"current directory\" and \"under current directory\")\n",
    "* add the missing words in the right order. (\"delete\" is missing here)\n",
    "* "
   ]
  },
  {
   "cell_type": "code",
   "execution_count": 48,
   "id": "5e1de3cf-38b9-4402-88ec-1024d96c171a",
   "metadata": {},
   "outputs": [
    {
     "data": {
      "text/plain": [
       "['files', 'inode number', 'by REGEX', 'under current directory']"
      ]
     },
     "execution_count": 48,
     "metadata": {},
     "output_type": "execute_result"
    }
   ],
   "source": [
    "# remove redundant phrases\n",
    "phrases = [\n",
    "    p for p in phrases\n",
    "    if not any(p != q and p in q for q in phrases)\n",
    "]\n",
    "phrases"
   ]
  },
  {
   "cell_type": "code",
   "execution_count": 49,
   "id": "0de3773c-f5d4-46b9-b159-5b170d27003d",
   "metadata": {},
   "outputs": [
    {
     "name": "stdout",
     "output_type": "stream",
     "text": [
      "Word: 'delete' → Phrase: 'delete' (Type: VB)\n",
      "Word: 'files' → Phrase: 'files' (Type: NNS)\n",
      "Word: 'with' → Phrase: 'with' (Type: IN)\n",
      "Word: 'inode' → Phrase: 'inode' (Type: NN)\n",
      "Word: 'number' → Phrase: 'number' (Type: NN)\n",
      "Word: 'specified' → Phrase: 'specified' (Type: VBN)\n",
      "Word: 'by' → Phrase: 'by' (Type: IN)\n",
      "Word: 'REGEX' → Phrase: 'REGEX' (Type: NNP)\n",
      "Word: 'under' → Phrase: 'under' (Type: IN)\n",
      "Word: 'current' → Phrase: 'current' (Type: JJ)\n",
      "Word: 'directory' → Phrase: 'directory' (Type: NN)\n"
     ]
    }
   ],
   "source": [
    "# add missing words in the right order\n",
    "\n",
    "words = []\n",
    "words_data = get_node_phrases(tree, depth=1)\n",
    "for word, phrase, label in words_data:\n",
    "    print(f\"Word: '{word}' → Phrase: '{phrase}' (Type: {label})\")\n",
    "    words.append(phrase)\n"
   ]
  },
  {
   "cell_type": "code",
   "execution_count": 50,
   "id": "aa8593b8-83fb-42dc-a868-36dc43933625",
   "metadata": {},
   "outputs": [
    {
     "data": {
      "text/plain": [
       "['delete',\n",
       " 'files',\n",
       " 'with',\n",
       " 'inode',\n",
       " 'number',\n",
       " 'specified',\n",
       " 'by',\n",
       " 'REGEX',\n",
       " 'under',\n",
       " 'current',\n",
       " 'directory']"
      ]
     },
     "execution_count": 50,
     "metadata": {},
     "output_type": "execute_result"
    }
   ],
   "source": [
    "words"
   ]
  },
  {
   "cell_type": "code",
   "execution_count": 51,
   "id": "6a026b3a-7d75-456a-87f1-576fc54c773a",
   "metadata": {},
   "outputs": [],
   "source": [
    "phrase_tokens = {tuple(p.split()): p for p in phrases}\n",
    "\n",
    "result = []\n",
    "i = 0\n",
    "while i < len(words):\n",
    "    for length in range(len(words), 0, -1):\n",
    "        slice_ = tuple(words[i:i+length])\n",
    "        if slice_ in phrase_tokens:\n",
    "            result.append(phrase_tokens[slice_])\n",
    "            i += length\n",
    "            break\n",
    "    else:\n",
    "        result.append(words[i])\n",
    "        i += 1"
   ]
  },
  {
   "cell_type": "code",
   "execution_count": 52,
   "id": "74169ad4-9414-4ca6-8466-eee25d4b31df",
   "metadata": {},
   "outputs": [
    {
     "data": {
      "text/plain": [
       "['delete',\n",
       " 'files',\n",
       " 'with',\n",
       " 'inode number',\n",
       " 'specified',\n",
       " 'by REGEX',\n",
       " 'under current directory']"
      ]
     },
     "execution_count": 52,
     "metadata": {},
     "output_type": "execute_result"
    }
   ],
   "source": [
    "result"
   ]
  },
  {
   "cell_type": "code",
   "execution_count": 53,
   "id": "da876f0b-27d3-4fb0-a22a-941909af9fe2",
   "metadata": {},
   "outputs": [],
   "source": [
    "!pip install torchtext -qq"
   ]
  },
  {
   "cell_type": "code",
   "execution_count": 54,
   "id": "b31a831a-44f4-4c95-b64e-5c739cee087f",
   "metadata": {},
   "outputs": [
    {
     "name": "stderr",
     "output_type": "stream",
     "text": [
      "DEPRECATION: Loading egg at c:\\users\\vrishank\\appdata\\local\\programs\\python\\python312\\lib\\site-packages\\object_detection-0.1-py3.12.egg is deprecated. pip 25.1 will enforce this behaviour change. A possible replacement is to use pip for package installation. Discussion can be found at https://github.com/pypa/pip/issues/12330\n",
      "DEPRECATION: Loading egg at c:\\users\\vrishank\\appdata\\local\\programs\\python\\python312\\lib\\site-packages\\pyparsing-2.4.7-py3.12.egg is deprecated. pip 25.1 will enforce this behaviour change. A possible replacement is to use pip for package installation. Discussion can be found at https://github.com/pypa/pip/issues/12330\n",
      "DEPRECATION: Loading egg at c:\\users\\vrishank\\appdata\\local\\programs\\python\\python312\\lib\\site-packages\\sacrebleu-2.2.0-py3.12.egg is deprecated. pip 25.1 will enforce this behaviour change. A possible replacement is to use pip for package installation. Discussion can be found at https://github.com/pypa/pip/issues/12330\n",
      "\n",
      "[notice] A new release of pip is available: 24.3.1 -> 25.1.1\n",
      "[notice] To update, run: python.exe -m pip install --upgrade pip\n"
     ]
    }
   ],
   "source": [
    "!pip install gensim -q"
   ]
  },
  {
   "cell_type": "code",
   "execution_count": 55,
   "id": "c2aca8ea-bc2b-4d7e-bce0-a4f10fb074f4",
   "metadata": {},
   "outputs": [
    {
     "name": "stderr",
     "output_type": "stream",
     "text": [
      "C:\\Users\\Vrishank\\AppData\\Local\\Temp\\ipykernel_15108\\796658341.py:6: DeprecationWarning: Call to deprecated `glove2word2vec` (KeyedVectors.load_word2vec_format(.., binary=False, no_header=True) loads GLoVE text vectors.).\n",
      "  glove2word2vec(glove_input_file, word2vec_output_file)\n"
     ]
    }
   ],
   "source": [
    "from gensim.scripts.glove2word2vec import glove2word2vec\n",
    "from gensim.models import KeyedVectors\n",
    "\n",
    "glove_input_file = \"glove.6B.100d.txt\"\n",
    "word2vec_output_file = \"glove.6B.100d.word2vec.txt\"\n",
    "glove2word2vec(glove_input_file, word2vec_output_file)\n",
    "model = KeyedVectors.load_word2vec_format(\"glove.6B.100d.word2vec.txt\", binary=False)"
   ]
  },
  {
   "cell_type": "code",
   "execution_count": 57,
   "id": "993276a9-37a7-4ab6-a6c7-8577b4d1edb3",
   "metadata": {},
   "outputs": [],
   "source": [
    "def get_embeddings(phrases):\n",
    "    embeddings = torch.ones(1, 400)\n",
    "    embedding_matrix = []\n",
    "    for phrase in phrases:\n",
    "        words = phrase.split()\n",
    "        word_vectors = [torch.tensor(model[word]) for word in words if word in model]\n",
    "        embeddings = torch.stack(word_vectors).nanmean(dim=0)\n",
    "        embedding_matrix.append(embeddings)\n",
    "\n",
    "    return embedding_matrix\n",
    "\n",
    "        "
   ]
  },
  {
   "cell_type": "code",
   "execution_count": 59,
   "id": "db3f09ce-052c-4eb5-845f-6072cfd06a5e",
   "metadata": {},
   "outputs": [
    {
     "data": {
      "text/plain": [
       "[tensor([-0.9847, -0.3593,  0.4800,  0.0174, -0.0836,  0.3891, -0.5002, -0.0163,\n",
       "          1.4212,  0.2648,  0.7294,  0.4001, -0.6046, -0.3532,  0.0976,  0.6482,\n",
       "          0.1927, -0.0498, -0.2717,  0.2427,  0.0679,  0.0496,  0.5436,  0.4108,\n",
       "         -0.0109, -0.6417, -0.5708,  0.2236,  0.1816, -0.4774,  0.8653,  0.8999,\n",
       "         -0.8167,  0.2851, -0.4252, -0.0049, -0.5927, -0.8290, -0.0403, -0.2012,\n",
       "         -0.0182,  0.1779, -0.1748, -0.4405, -0.6667,  0.5978, -0.4166,  0.0637,\n",
       "         -0.4414, -0.6206,  0.7836,  1.2170, -0.7845, -0.3679, -0.8830, -0.1995,\n",
       "          0.3578, -0.1070,  0.7295,  0.5112, -0.4249,  0.4940,  0.1179,  0.1765,\n",
       "          0.8381, -0.1581,  1.0432,  0.4410, -0.1170, -0.2156,  0.0639,  0.3088,\n",
       "          0.0833, -0.3197,  0.4735,  0.6192, -0.6173,  0.0967,  0.5988, -0.8721,\n",
       "         -0.3186, -1.3572, -0.3145, -0.1944, -0.7842,  0.6458,  0.9027,  0.2160,\n",
       "          0.1839,  0.5275, -0.5662,  0.8874,  0.3996, -0.4262, -0.0713, -0.9892,\n",
       "          0.7064, -0.5807, -0.4291,  0.0543]),\n",
       " tensor([-3.7512e-01,  2.6203e-01,  4.8973e-01, -7.1912e-01,  4.5776e-01,\n",
       "          5.5531e-01, -1.0985e-01, -3.3747e-01,  8.8074e-01, -2.8614e-01,\n",
       "          1.3696e+00,  1.2411e-01,  5.7026e-02,  4.6044e-01, -3.4576e-01,\n",
       "          4.7871e-01,  1.1395e+00,  4.2713e-01,  2.4764e-02,  5.8796e-01,\n",
       "         -5.0709e-01, -4.7476e-02,  4.4359e-01,  4.5664e-01, -1.2058e-02,\n",
       "         -1.1437e+00,  4.3816e-01,  4.5130e-04, -1.2400e-01,  3.2061e-01,\n",
       "          1.4669e+00,  7.4359e-01, -1.0922e+00,  5.2666e-01,  4.6334e-01,\n",
       "         -6.2609e-02,  9.4656e-02, -1.0045e+00,  5.2551e-01, -1.9425e-01,\n",
       "         -2.1145e-01, -8.0361e-01, -2.7913e-01,  3.8551e-02, -5.9779e-01,\n",
       "         -1.3906e-01, -3.4552e-01, -1.1716e-01,  6.4193e-01, -5.1352e-02,\n",
       "          1.3084e+00,  2.4359e-01,  1.0612e-01,  3.4545e-01, -1.6806e-01,\n",
       "         -4.7761e-01, -1.6982e-01, -2.8244e-01,  1.9188e+00,  4.3093e-01,\n",
       "         -3.3077e-01,  9.3311e-01, -2.4628e-02, -3.9179e-01,  8.9157e-01,\n",
       "         -5.2329e-01,  7.2390e-01,  3.3864e-01,  2.4440e-01,  3.2011e-01,\n",
       "          4.1341e-01,  4.7137e-01,  1.3209e-01, -5.5914e-01,  4.8867e-01,\n",
       "          3.3188e-01, -5.6991e-01,  3.2097e-01, -5.3676e-01,  4.3054e-01,\n",
       "          3.0282e-01, -1.3521e-01,  6.6321e-02, -2.3677e-02, -1.2560e+00,\n",
       "          4.3318e-01,  4.2487e-01, -8.9620e-03,  9.7996e-02,  3.7559e-01,\n",
       "         -2.7374e-01,  8.6471e-01,  1.8942e-01,  9.4514e-02,  8.3627e-01,\n",
       "         -7.3639e-01,  7.6153e-01, -2.3308e-01,  3.9213e-01, -2.5542e-01]),\n",
       " tensor([-0.4361,  0.3910,  0.5166, -0.1386,  0.2029,  0.5072, -0.0125,  0.2295,\n",
       "         -0.6316,  0.2120, -0.0180, -0.3936,  0.7416,  0.3022,  0.5179, -0.2519,\n",
       "          0.2537, -0.6518, -0.4296,  0.0094,  0.0233, -0.3925,  0.3495,  0.2122,\n",
       "          0.7346, -0.2196, -0.0286, -0.3464, -0.2093, -0.2709, -0.1764,  0.8240,\n",
       "         -0.0823, -0.0349,  0.0797,  0.3484,  0.6089,  0.2281, -0.2963,  0.1863,\n",
       "          0.2340, -0.7097,  0.1631, -0.2086,  0.0924, -0.0754, -0.1391, -0.3512,\n",
       "         -0.1997, -0.4169, -0.3149,  0.1612,  0.0389,  1.6654, -0.1240, -3.3419,\n",
       "          0.1093, -0.0262,  1.2440,  0.8437, -0.1568,  0.7904, -0.0424,  0.1888,\n",
       "          0.0643, -0.1168,  1.0467,  0.7181,  0.5783,  0.2701, -0.5091, -0.0840,\n",
       "         -0.1437, -0.7641,  0.2742,  0.5681, -0.3938, -0.3256, -0.9285, -0.1310,\n",
       "          1.3277,  0.1185, -0.1555,  0.5972, -1.0840, -0.0581,  0.2389,  0.1456,\n",
       "         -0.5930, -0.4751, -0.2206, -0.3759, -0.7965,  0.0135, -0.4460, -0.3462,\n",
       "         -0.7540, -0.3517,  0.9946,  0.0882]),\n",
       " tensor([-2.5466e-01,  4.6022e-01, -8.6249e-02,  3.2874e-01,  1.3644e-01,\n",
       "          1.7731e-01, -1.3302e-01, -8.8208e-02,  3.4200e-01,  1.9449e-01,\n",
       "          1.8568e-01, -2.7879e-01,  1.3684e-01, -2.2338e-01,  6.1770e-02,\n",
       "          3.6213e-01, -1.6948e-01,  3.1270e-01,  1.1896e-01,  4.7815e-02,\n",
       "          8.9210e-02, -9.8475e-02, -3.6715e-02, -7.9905e-02,  8.0522e-02,\n",
       "         -5.7943e-01,  9.2639e-01, -5.7600e-02, -1.9045e-02, -2.1432e-01,\n",
       "          2.2687e-01,  1.3957e-01,  3.3733e-01,  1.3520e-01,  1.6723e-01,\n",
       "         -1.2664e-01, -4.1686e-01, -4.8000e-04,  1.3760e-02, -6.1909e-02,\n",
       "          9.7710e-02,  1.2567e-01, -1.3900e-02,  2.2574e-01,  2.8929e-01,\n",
       "         -1.0597e-01, -8.6375e-02, -3.1012e-01, -2.4597e-01,  3.2625e-01,\n",
       "          2.0746e-01, -2.4151e-01, -5.8172e-02,  5.0924e-01,  3.4320e-02,\n",
       "         -7.5128e-01,  1.1931e-01, -2.3099e-01,  7.7235e-01,  7.3537e-01,\n",
       "         -1.7078e-01, -2.0736e-01,  3.6801e-02,  3.5611e-01,  6.7916e-01,\n",
       "         -1.5058e-01, -2.8346e-01,  9.5210e-02,  6.1242e-01, -1.4099e-01,\n",
       "         -1.3988e-01,  8.8425e-02, -8.1856e-02,  3.5665e-02,  5.1123e-01,\n",
       "          1.7443e-01,  7.7700e-03, -4.1899e-01, -1.3596e-01,  6.0375e-02,\n",
       "          6.6777e-01, -3.3970e-01,  9.2755e-02, -3.4207e-01, -6.1138e-01,\n",
       "         -5.1653e-01,  3.4408e-01, -6.8051e-01, -1.0642e-01,  3.9187e-01,\n",
       "         -3.8451e-01,  5.0806e-01,  3.4120e-02, -1.3724e-01, -2.7705e-01,\n",
       "         -4.4016e-01, -1.6452e-01, -2.5491e-01,  3.5011e-01, -3.3013e-01]),\n",
       " tensor([-0.5379, -0.2004,  0.1524,  0.9681, -0.0605, -0.1833, -0.4386,  0.5065,\n",
       "         -0.0730,  0.5399,  0.4967,  0.0029,  0.2796, -0.4189,  0.4314, -0.1137,\n",
       "          0.1880,  0.4091, -0.5703, -0.4805, -0.4460, -0.7702,  0.1484, -0.1927,\n",
       "         -0.2917, -0.4670, -0.1470, -0.4922, -0.6049,  0.0695,  0.4601,  0.1861,\n",
       "         -0.0284, -0.5028,  0.4651,  0.5735,  0.4683, -0.1592, -0.4937, -0.3052,\n",
       "          0.2934,  0.0363,  0.4268,  0.4889, -0.2277, -0.0020, -0.0353, -0.6015,\n",
       "         -0.6431, -0.3185,  0.9608,  0.0589,  0.5416,  0.2390, -0.2274,  0.0252,\n",
       "          0.0392, -0.4183,  1.0968,  0.5924,  0.1322,  0.0717, -0.7524,  0.0553,\n",
       "          0.9329, -0.2558, -0.2956, -0.2799,  0.1413, -0.1335, -0.5678, -0.4259,\n",
       "          0.6446,  0.2208,  0.7743, -0.1964, -0.1975, -0.8991, -0.4520, -0.4127,\n",
       "          0.1896, -0.7128, -0.5302, -0.4010, -0.9308,  0.6284,  0.5433, -0.4690,\n",
       "          0.4046,  0.3629, -1.2183,  0.0744,  0.1128, -0.3040, -0.1970,  0.0989,\n",
       "         -0.0720, -0.2787,  0.2919, -0.2382]),\n",
       " tensor([-0.2087, -0.1174,  0.2648, -0.2834,  0.1958,  0.7446, -0.0389,  0.0285,\n",
       "         -0.4425, -0.3043,  0.2713, -0.5191,  0.5218, -0.7665,  0.2804, -0.4834,\n",
       "         -0.1563, -0.4970, -0.5102, -0.0365,  0.2058, -0.6136,  0.4639,  0.7350,\n",
       "          0.6681, -0.4443, -0.1760, -0.5478, -0.0135,  0.1633,  0.2815,  0.0542,\n",
       "         -0.1991, -0.1907, -0.4318,  0.1478,  0.2756,  0.1857, -0.4078, -0.1541,\n",
       "         -0.5885, -0.0085, -0.1418,  0.7061,  0.5403, -0.4331,  0.1750, -0.4621,\n",
       "         -0.3137, -0.3404, -0.2513,  0.6823,  0.3358,  1.5862, -0.3943, -2.9938,\n",
       "         -0.2977,  0.0421,  1.9075, -0.0726, -0.0922,  0.6613,  0.1387,  0.7877,\n",
       "          0.6931, -0.2218,  0.7171,  1.1453,  1.2153,  0.1420, -0.7991,  0.1697,\n",
       "         -0.3453, -0.5174, -0.1565,  0.1876,  0.1694, -0.0083, -1.4511,  0.0620,\n",
       "          1.1019,  0.0844, -0.3415,  0.4999, -1.1106, -0.1376,  0.1538, -0.0610,\n",
       "         -0.5383, -0.7894, -0.1257, -0.5738, -0.7348,  0.5477, -0.2846, -0.2435,\n",
       "         -0.2751, -0.3327,  0.2788, -0.8705]),\n",
       " tensor([-2.3835e-01,  3.4547e-01,  2.6779e-01, -2.2296e-01,  2.6960e-01,\n",
       "         -2.3845e-02, -3.0161e-01,  1.1888e-01, -2.7651e-01,  1.2901e-01,\n",
       "          4.4725e-01,  4.3123e-02,  5.7167e-01, -1.8752e-01,  3.0994e-01,\n",
       "         -3.4690e-01,  5.0240e-01, -8.7928e-02, -3.9962e-01, -2.2600e-01,\n",
       "         -5.3034e-01, -7.5803e-02,  3.7995e-01,  1.3395e-01,  1.9598e-02,\n",
       "         -8.5957e-01,  2.9113e-01, -4.4798e-01, -1.7463e-02, -3.5936e-01,\n",
       "          2.7759e-01,  3.6927e-01, -2.8580e-03, -2.4514e-01, -1.6756e-01,\n",
       "          8.1506e-01, -9.3667e-03, -2.6716e-01,  2.2960e-02, -7.5692e-02,\n",
       "         -1.0768e-01,  4.5973e-02,  3.4704e-01, -6.9417e-02,  2.7694e-01,\n",
       "          8.2228e-02, -1.4611e-02, -3.2707e-01, -1.7241e-01, -3.4718e-01,\n",
       "          3.3676e-01,  1.2695e-01, -1.8367e-03,  5.1995e-01, -1.9998e-01,\n",
       "         -1.8971e+00,  1.0585e-01, -4.3474e-01,  1.7615e+00,  4.1156e-01,\n",
       "          1.3456e-01,  1.9390e-02, -4.3097e-01,  4.5954e-02,  8.9136e-01,\n",
       "         -2.3383e-01, -3.3630e-02,  1.0235e-02,  6.6236e-01,  2.6562e-02,\n",
       "          1.8420e-01,  1.4232e-01,  4.7251e-02, -3.9621e-01,  2.7813e-02,\n",
       "         -2.7834e-01, -5.3546e-02,  2.5155e-01, -8.8324e-01, -3.5307e-01,\n",
       "          4.7387e-01, -1.6970e-01, -3.4842e-01,  2.3871e-01, -6.6409e-01,\n",
       "          1.5407e-01, -8.9057e-02, -5.2210e-01,  2.3966e-01, -4.0687e-02,\n",
       "          1.6719e-01,  2.7456e-01, -1.3586e-01,  1.2141e-01,  1.9435e-01,\n",
       "         -2.9218e-01,  3.6150e-02, -3.4901e-01,  5.3811e-01, -2.0100e-01])]"
      ]
     },
     "execution_count": 59,
     "metadata": {},
     "output_type": "execute_result"
    }
   ],
   "source": [
    "embeddings = get_embeddings(result)\n",
    "embeddings"
   ]
  },
  {
   "cell_type": "markdown",
   "id": "98a38bb3-4c9f-4224-9a1a-6a4a6c307004",
   "metadata": {},
   "source": [
    "# What's left?\n",
    "Now that we have the embeddings, we now need to just take the dataset and get embeddings for all the features. Then we need to pass it to the transformer and train the transformer based off the given dataset's labels. "
   ]
  },
  {
   "cell_type": "code",
   "execution_count": null,
   "id": "0666c3c7-76cd-4b2b-9bf0-f8c091a8e042",
   "metadata": {},
   "outputs": [],
   "source": []
  },
  {
   "cell_type": "code",
   "execution_count": null,
   "id": "b57c6008-ebf7-42da-8cf8-fa9cb08a7ce0",
   "metadata": {},
   "outputs": [],
   "source": []
  },
  {
   "cell_type": "code",
   "execution_count": null,
   "id": "32041d06-5c41-4e7a-9eec-19540e04e90a",
   "metadata": {},
   "outputs": [],
   "source": []
  }
 ],
 "metadata": {
  "kernelspec": {
   "display_name": "Python 3 (ipykernel)",
   "language": "python",
   "name": "python3"
  },
  "language_info": {
   "codemirror_mode": {
    "name": "ipython",
    "version": 3
   },
   "file_extension": ".py",
   "mimetype": "text/x-python",
   "name": "python",
   "nbconvert_exporter": "python",
   "pygments_lexer": "ipython3",
   "version": "3.12.4"
  }
 },
 "nbformat": 4,
 "nbformat_minor": 5
}
